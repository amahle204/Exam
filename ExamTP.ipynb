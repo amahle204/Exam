{
 "cells": [
  {
   "cell_type": "markdown",
   "id": "c830a085-6626-44db-84ad-dff757f54c4b",
   "metadata": {},
   "source": [
    "### STUDENT NAME\n",
    "22407383"
   ]
  },
  {
   "cell_type": "markdown",
   "id": "b2d9a6a3-7f3a-4475-8586-ac821c6b03ce",
   "metadata": {},
   "source": [
    "### SURNAME AND INITIALS\n",
    "KHOMO A"
   ]
  },
  {
   "cell_type": "markdown",
   "id": "dd6570d9-70ef-4e8d-a200-b1a41feab149",
   "metadata": {},
   "source": [
    "# Exam Theme: A Machine Learning Solution for Data-Driven Crime Analytics in South Africa"
   ]
  },
  {
   "cell_type": "markdown",
   "id": "350afe46-80c9-4c32-aabc-2baea6289fff",
   "metadata": {},
   "source": [
    "## TASK: Classification of Crime Hotspots and Forecasting Crime Trends"
   ]
  },
  {
   "cell_type": "markdown",
   "id": "cf34786f-0d76-433e-8e38-d80d64eaeb41",
   "metadata": {},
   "source": [
    "Crime in South Africa is one of the most pressing social issues, affecting safety, economic activity, and urban development. By analyzing crime patterns, we can help authorities allocate resources more effectively and anticipate crime trends, which supports better decision-making and policy planning."
   ]
  },
  {
   "cell_type": "markdown",
   "id": "dd780737-e8e6-4794-9e83-f65f3086cadc",
   "metadata": {},
   "source": [
    "### Dataset (including multi-relational dataset) Source"
   ]
  },
  {
   "cell_type": "markdown",
   "id": "cdc9a69e-d9e8-49f2-95cf-312486da42ed",
   "metadata": {},
   "source": [
    "#### Links to Datasets"
   ]
  },
  {
   "cell_type": "markdown",
   "id": "549a35e7-0bb5-411c-adc6-ee0eaacb59a8",
   "metadata": {},
   "source": [
    "https://open.africa/dataset/9cefda6a-f897-4c1a-8f37-0666d2410696/resource/786ddfdb-c192-4fab-bb47-ea41f00cc3cb/download/policestatistics_2005-2018.csv"
   ]
  },
  {
   "cell_type": "markdown",
   "id": "36bd43d8-a963-4e1c-87c4-43959358c9d9",
   "metadata": {},
   "source": [
    "https://www.kaggle.com/datasets/slwessels/crime-statistics-for-south-africa?resource=download"
   ]
  },
  {
   "cell_type": "markdown",
   "id": "f308be8e-9499-450f-953b-d37e56028cf5",
   "metadata": {},
   "source": [
    "I chose these datasets because they provide detailed and reliable information on Crime in South Africa. OpenAfrica dataset gives crime statistics per police station across multiple categories and years, which helps me identify hotspots and patterns. The Kaggle dataset adds provincial-level data and extra temporal coverage, which is useful for forecasting trends. Together, they form a multi-relational dataset linking stations, crime types, and time periods, which is perfect for both classification and time-series prediction. These datasets are credible and contain enough variables to explore patterns, detect hotspots, and anticipate future crime trends effectively. "
   ]
  },
  {
   "cell_type": "markdown",
   "id": "fdee9e4e-61c4-4314-87da-3d144cefc656",
   "metadata": {},
   "source": [
    "## DATA PREPROCESSING"
   ]
  },
  {
   "cell_type": "markdown",
   "id": "fece6d90-78e8-4588-83c5-76958740495b",
   "metadata": {},
   "source": [
    "importing pandas and loading the csv file and also assigning them to simple names"
   ]
  },
  {
   "cell_type": "code",
   "execution_count": 62,
   "id": "5677c9ba-5e37-4e8a-807e-671a01b1221e",
   "metadata": {},
   "outputs": [],
   "source": [
    "import pandas as pd\n",
    "\n",
    "SA_crime = pd.read_csv(\"SouthAfricaCrimeStats_v2.csv\")\n",
    "crime_incidents = pd.read_csv(\"policestatistics_2005-2018 (1).csv\")\n",
    "population = pd.read_csv(\"ProvincePopulation.csv\")\n",
    "\n"
   ]
  },
  {
   "cell_type": "markdown",
   "id": "fbadf78d-ddcf-4209-a372-f4ee4a089f91",
   "metadata": {},
   "source": [
    "## Cleaning the CSV"
   ]
  },
  {
   "cell_type": "code",
   "execution_count": 63,
   "id": "224c8fce-aee5-4b17-ac56-3ad1c35f42a5",
   "metadata": {},
   "outputs": [
    {
     "data": {
      "text/html": [
       "<div>\n",
       "<style scoped>\n",
       "    .dataframe tbody tr th:only-of-type {\n",
       "        vertical-align: middle;\n",
       "    }\n",
       "\n",
       "    .dataframe tbody tr th {\n",
       "        vertical-align: top;\n",
       "    }\n",
       "\n",
       "    .dataframe thead th {\n",
       "        text-align: right;\n",
       "    }\n",
       "</style>\n",
       "<table border=\"1\" class=\"dataframe\">\n",
       "  <thead>\n",
       "    <tr style=\"text-align: right;\">\n",
       "      <th></th>\n",
       "      <th>Police Station</th>\n",
       "      <th>Province</th>\n",
       "      <th>Crime</th>\n",
       "      <th>Year</th>\n",
       "      <th>Incidents</th>\n",
       "    </tr>\n",
       "  </thead>\n",
       "  <tbody>\n",
       "    <tr>\n",
       "      <th>0</th>\n",
       "      <td>Cape Town Central</td>\n",
       "      <td>Western Cape</td>\n",
       "      <td>All theft not mentioned elsewhere</td>\n",
       "      <td>2005-2006</td>\n",
       "      <td>6692</td>\n",
       "    </tr>\n",
       "    <tr>\n",
       "      <th>1</th>\n",
       "      <td>Cape Town Central</td>\n",
       "      <td>Western Cape</td>\n",
       "      <td>All theft not mentioned elsewhere</td>\n",
       "      <td>2006-2007</td>\n",
       "      <td>6341</td>\n",
       "    </tr>\n",
       "    <tr>\n",
       "      <th>2</th>\n",
       "      <td>Cape Town Central</td>\n",
       "      <td>Western Cape</td>\n",
       "      <td>All theft not mentioned elsewhere</td>\n",
       "      <td>2007-2008</td>\n",
       "      <td>5966</td>\n",
       "    </tr>\n",
       "    <tr>\n",
       "      <th>3</th>\n",
       "      <td>Cape Town Central</td>\n",
       "      <td>Western Cape</td>\n",
       "      <td>All theft not mentioned elsewhere</td>\n",
       "      <td>2008-2009</td>\n",
       "      <td>5187</td>\n",
       "    </tr>\n",
       "    <tr>\n",
       "      <th>4</th>\n",
       "      <td>Cape Town Central</td>\n",
       "      <td>Western Cape</td>\n",
       "      <td>All theft not mentioned elsewhere</td>\n",
       "      <td>2009-2010</td>\n",
       "      <td>4985</td>\n",
       "    </tr>\n",
       "  </tbody>\n",
       "</table>\n",
       "</div>"
      ],
      "text/plain": [
       "      Police Station      Province                              Crime  \\\n",
       "0  Cape Town Central  Western Cape  All theft not mentioned elsewhere   \n",
       "1  Cape Town Central  Western Cape  All theft not mentioned elsewhere   \n",
       "2  Cape Town Central  Western Cape  All theft not mentioned elsewhere   \n",
       "3  Cape Town Central  Western Cape  All theft not mentioned elsewhere   \n",
       "4  Cape Town Central  Western Cape  All theft not mentioned elsewhere   \n",
       "\n",
       "        Year  Incidents  \n",
       "0  2005-2006       6692  \n",
       "1  2006-2007       6341  \n",
       "2  2007-2008       5966  \n",
       "3  2008-2009       5187  \n",
       "4  2009-2010       4985  "
      ]
     },
     "execution_count": 63,
     "metadata": {},
     "output_type": "execute_result"
    }
   ],
   "source": [
    "crime_incidents.head()"
   ]
  },
  {
   "cell_type": "markdown",
   "id": "3a852c0e-32a8-4b19-bb4f-1e252884c5b0",
   "metadata": {},
   "source": [
    "Make column names lowercase and replace spaces with underscores"
   ]
  },
  {
   "cell_type": "code",
   "execution_count": 64,
   "id": "8417324b-8443-4da5-93a7-d20b812201e9",
   "metadata": {},
   "outputs": [],
   "source": [
    "crime_incidents.columns = crime_incidents.columns.str.strip().str.lower().str.replace(' ', '_')"
   ]
  },
  {
   "cell_type": "markdown",
   "id": "b25c4556-4084-46fb-8461-a20fe920fb22",
   "metadata": {},
   "source": [
    "Check for missing values"
   ]
  },
  {
   "cell_type": "code",
   "execution_count": 65,
   "id": "82149bc5-66ad-47f3-a931-27e78db3fbe2",
   "metadata": {},
   "outputs": [
    {
     "name": "stdout",
     "output_type": "stream",
     "text": [
      "police_station    0.0\n",
      "province          0.0\n",
      "crime             0.0\n",
      "year              0.0\n",
      "incidents         0.0\n",
      "dtype: float64\n"
     ]
    }
   ],
   "source": [
    "missing_percentage = crime_incidents.isnull().sum() / len(crime_incidents) * 100\n",
    "print(missing_percentage)"
   ]
  },
  {
   "cell_type": "markdown",
   "id": "8460c80f-95a1-480d-a259-96ac533a243d",
   "metadata": {},
   "source": [
    "Preview first 5 rows"
   ]
  },
  {
   "cell_type": "code",
   "execution_count": 66,
   "id": "3df94fcf-435b-4d0c-aca1-047df7e83348",
   "metadata": {},
   "outputs": [
    {
     "data": {
      "text/html": [
       "<div>\n",
       "<style scoped>\n",
       "    .dataframe tbody tr th:only-of-type {\n",
       "        vertical-align: middle;\n",
       "    }\n",
       "\n",
       "    .dataframe tbody tr th {\n",
       "        vertical-align: top;\n",
       "    }\n",
       "\n",
       "    .dataframe thead th {\n",
       "        text-align: right;\n",
       "    }\n",
       "</style>\n",
       "<table border=\"1\" class=\"dataframe\">\n",
       "  <thead>\n",
       "    <tr style=\"text-align: right;\">\n",
       "      <th></th>\n",
       "      <th>police_station</th>\n",
       "      <th>province</th>\n",
       "      <th>crime</th>\n",
       "      <th>year</th>\n",
       "      <th>incidents</th>\n",
       "    </tr>\n",
       "  </thead>\n",
       "  <tbody>\n",
       "    <tr>\n",
       "      <th>0</th>\n",
       "      <td>Cape Town Central</td>\n",
       "      <td>Western Cape</td>\n",
       "      <td>All theft not mentioned elsewhere</td>\n",
       "      <td>2005-2006</td>\n",
       "      <td>6692</td>\n",
       "    </tr>\n",
       "    <tr>\n",
       "      <th>1</th>\n",
       "      <td>Cape Town Central</td>\n",
       "      <td>Western Cape</td>\n",
       "      <td>All theft not mentioned elsewhere</td>\n",
       "      <td>2006-2007</td>\n",
       "      <td>6341</td>\n",
       "    </tr>\n",
       "    <tr>\n",
       "      <th>2</th>\n",
       "      <td>Cape Town Central</td>\n",
       "      <td>Western Cape</td>\n",
       "      <td>All theft not mentioned elsewhere</td>\n",
       "      <td>2007-2008</td>\n",
       "      <td>5966</td>\n",
       "    </tr>\n",
       "    <tr>\n",
       "      <th>3</th>\n",
       "      <td>Cape Town Central</td>\n",
       "      <td>Western Cape</td>\n",
       "      <td>All theft not mentioned elsewhere</td>\n",
       "      <td>2008-2009</td>\n",
       "      <td>5187</td>\n",
       "    </tr>\n",
       "    <tr>\n",
       "      <th>4</th>\n",
       "      <td>Cape Town Central</td>\n",
       "      <td>Western Cape</td>\n",
       "      <td>All theft not mentioned elsewhere</td>\n",
       "      <td>2009-2010</td>\n",
       "      <td>4985</td>\n",
       "    </tr>\n",
       "  </tbody>\n",
       "</table>\n",
       "</div>"
      ],
      "text/plain": [
       "      police_station      province                              crime  \\\n",
       "0  Cape Town Central  Western Cape  All theft not mentioned elsewhere   \n",
       "1  Cape Town Central  Western Cape  All theft not mentioned elsewhere   \n",
       "2  Cape Town Central  Western Cape  All theft not mentioned elsewhere   \n",
       "3  Cape Town Central  Western Cape  All theft not mentioned elsewhere   \n",
       "4  Cape Town Central  Western Cape  All theft not mentioned elsewhere   \n",
       "\n",
       "        year  incidents  \n",
       "0  2005-2006       6692  \n",
       "1  2006-2007       6341  \n",
       "2  2007-2008       5966  \n",
       "3  2008-2009       5187  \n",
       "4  2009-2010       4985  "
      ]
     },
     "execution_count": 66,
     "metadata": {},
     "output_type": "execute_result"
    }
   ],
   "source": [
    "crime_incidents.head()"
   ]
  },
  {
   "cell_type": "code",
   "execution_count": 67,
   "id": "e19d0bb4-cc9c-4e17-9da5-9781210c30b1",
   "metadata": {},
   "outputs": [
    {
     "data": {
      "text/html": [
       "<div>\n",
       "<style scoped>\n",
       "    .dataframe tbody tr th:only-of-type {\n",
       "        vertical-align: middle;\n",
       "    }\n",
       "\n",
       "    .dataframe tbody tr th {\n",
       "        vertical-align: top;\n",
       "    }\n",
       "\n",
       "    .dataframe thead th {\n",
       "        text-align: right;\n",
       "    }\n",
       "</style>\n",
       "<table border=\"1\" class=\"dataframe\">\n",
       "  <thead>\n",
       "    <tr style=\"text-align: right;\">\n",
       "      <th></th>\n",
       "      <th>Province</th>\n",
       "      <th>Station</th>\n",
       "      <th>Category</th>\n",
       "      <th>2005-2006</th>\n",
       "      <th>2006-2007</th>\n",
       "      <th>2007-2008</th>\n",
       "      <th>2008-2009</th>\n",
       "      <th>2009-2010</th>\n",
       "      <th>2010-2011</th>\n",
       "      <th>2011-2012</th>\n",
       "      <th>2012-2013</th>\n",
       "      <th>2013-2014</th>\n",
       "      <th>2014-2015</th>\n",
       "      <th>2015-2016</th>\n",
       "    </tr>\n",
       "  </thead>\n",
       "  <tbody>\n",
       "    <tr>\n",
       "      <th>0</th>\n",
       "      <td>Western Cape</td>\n",
       "      <td>Cape Town Central</td>\n",
       "      <td>All theft not mentioned elsewhere</td>\n",
       "      <td>6692</td>\n",
       "      <td>6341</td>\n",
       "      <td>5966</td>\n",
       "      <td>5187</td>\n",
       "      <td>4985</td>\n",
       "      <td>5127</td>\n",
       "      <td>5285</td>\n",
       "      <td>5937</td>\n",
       "      <td>5600</td>\n",
       "      <td>5335</td>\n",
       "      <td>5176</td>\n",
       "    </tr>\n",
       "    <tr>\n",
       "      <th>1</th>\n",
       "      <td>Gauteng</td>\n",
       "      <td>Jhb Central</td>\n",
       "      <td>All theft not mentioned elsewhere</td>\n",
       "      <td>6093</td>\n",
       "      <td>4602</td>\n",
       "      <td>3761</td>\n",
       "      <td>3610</td>\n",
       "      <td>3267</td>\n",
       "      <td>3037</td>\n",
       "      <td>2886</td>\n",
       "      <td>2638</td>\n",
       "      <td>2809</td>\n",
       "      <td>3050</td>\n",
       "      <td>2434</td>\n",
       "    </tr>\n",
       "    <tr>\n",
       "      <th>2</th>\n",
       "      <td>Western Cape</td>\n",
       "      <td>Mitchells Plain</td>\n",
       "      <td>All theft not mentioned elsewhere</td>\n",
       "      <td>5341</td>\n",
       "      <td>6093</td>\n",
       "      <td>6316</td>\n",
       "      <td>6803</td>\n",
       "      <td>6035</td>\n",
       "      <td>5761</td>\n",
       "      <td>6108</td>\n",
       "      <td>5514</td>\n",
       "      <td>4975</td>\n",
       "      <td>4043</td>\n",
       "      <td>3635</td>\n",
       "    </tr>\n",
       "    <tr>\n",
       "      <th>3</th>\n",
       "      <td>Free State</td>\n",
       "      <td>Park Road</td>\n",
       "      <td>All theft not mentioned elsewhere</td>\n",
       "      <td>5108</td>\n",
       "      <td>4282</td>\n",
       "      <td>3834</td>\n",
       "      <td>3316</td>\n",
       "      <td>3101</td>\n",
       "      <td>3013</td>\n",
       "      <td>2679</td>\n",
       "      <td>3116</td>\n",
       "      <td>2927</td>\n",
       "      <td>2297</td>\n",
       "      <td>2103</td>\n",
       "    </tr>\n",
       "    <tr>\n",
       "      <th>4</th>\n",
       "      <td>Gauteng</td>\n",
       "      <td>Pretoria Central</td>\n",
       "      <td>All theft not mentioned elsewhere</td>\n",
       "      <td>5099</td>\n",
       "      <td>4536</td>\n",
       "      <td>3309</td>\n",
       "      <td>2694</td>\n",
       "      <td>2616</td>\n",
       "      <td>2606</td>\n",
       "      <td>2635</td>\n",
       "      <td>3226</td>\n",
       "      <td>3246</td>\n",
       "      <td>2892</td>\n",
       "      <td>3030</td>\n",
       "    </tr>\n",
       "  </tbody>\n",
       "</table>\n",
       "</div>"
      ],
      "text/plain": [
       "       Province            Station                           Category  \\\n",
       "0  Western Cape  Cape Town Central  All theft not mentioned elsewhere   \n",
       "1       Gauteng        Jhb Central  All theft not mentioned elsewhere   \n",
       "2  Western Cape    Mitchells Plain  All theft not mentioned elsewhere   \n",
       "3    Free State          Park Road  All theft not mentioned elsewhere   \n",
       "4       Gauteng   Pretoria Central  All theft not mentioned elsewhere   \n",
       "\n",
       "   2005-2006  2006-2007  2007-2008  2008-2009  2009-2010  2010-2011  \\\n",
       "0       6692       6341       5966       5187       4985       5127   \n",
       "1       6093       4602       3761       3610       3267       3037   \n",
       "2       5341       6093       6316       6803       6035       5761   \n",
       "3       5108       4282       3834       3316       3101       3013   \n",
       "4       5099       4536       3309       2694       2616       2606   \n",
       "\n",
       "   2011-2012  2012-2013  2013-2014  2014-2015  2015-2016  \n",
       "0       5285       5937       5600       5335       5176  \n",
       "1       2886       2638       2809       3050       2434  \n",
       "2       6108       5514       4975       4043       3635  \n",
       "3       2679       3116       2927       2297       2103  \n",
       "4       2635       3226       3246       2892       3030  "
      ]
     },
     "execution_count": 67,
     "metadata": {},
     "output_type": "execute_result"
    }
   ],
   "source": [
    "SA_crime.head()"
   ]
  },
  {
   "cell_type": "markdown",
   "id": "849a0f0b-2f51-4619-9161-81e789b09d3d",
   "metadata": {},
   "source": [
    "Make column names lowercase and replace spaces with underscores"
   ]
  },
  {
   "cell_type": "code",
   "execution_count": 68,
   "id": "b0a734a5-b915-41a7-b466-5324d544d3ce",
   "metadata": {},
   "outputs": [],
   "source": [
    "SA_crime.columns = SA_crime.columns.str.strip().str.lower().str.replace(' ', '_')"
   ]
  },
  {
   "cell_type": "markdown",
   "id": "3c5a97c4-29de-4c1d-bee7-162efb57b11d",
   "metadata": {},
   "source": [
    "Check for missing values\n"
   ]
  },
  {
   "cell_type": "code",
   "execution_count": 69,
   "id": "77e09e20-42e2-4e2f-91e9-2c1031444fdc",
   "metadata": {},
   "outputs": [
    {
     "name": "stdout",
     "output_type": "stream",
     "text": [
      "province     0.0\n",
      "station      0.0\n",
      "category     0.0\n",
      "2005-2006    0.0\n",
      "2006-2007    0.0\n",
      "2007-2008    0.0\n",
      "2008-2009    0.0\n",
      "2009-2010    0.0\n",
      "2010-2011    0.0\n",
      "2011-2012    0.0\n",
      "2012-2013    0.0\n",
      "2013-2014    0.0\n",
      "2014-2015    0.0\n",
      "2015-2016    0.0\n",
      "dtype: float64\n"
     ]
    }
   ],
   "source": [
    "missing_percentage = SA_crime.isnull().sum() / len(SA_crime) * 100\n",
    "print(missing_percentage)"
   ]
  },
  {
   "cell_type": "code",
   "execution_count": 70,
   "id": "408b8166-8957-42cf-a720-042f09ef0251",
   "metadata": {},
   "outputs": [
    {
     "data": {
      "text/html": [
       "<div>\n",
       "<style scoped>\n",
       "    .dataframe tbody tr th:only-of-type {\n",
       "        vertical-align: middle;\n",
       "    }\n",
       "\n",
       "    .dataframe tbody tr th {\n",
       "        vertical-align: top;\n",
       "    }\n",
       "\n",
       "    .dataframe thead th {\n",
       "        text-align: right;\n",
       "    }\n",
       "</style>\n",
       "<table border=\"1\" class=\"dataframe\">\n",
       "  <thead>\n",
       "    <tr style=\"text-align: right;\">\n",
       "      <th></th>\n",
       "      <th>province</th>\n",
       "      <th>station</th>\n",
       "      <th>category</th>\n",
       "      <th>2005-2006</th>\n",
       "      <th>2006-2007</th>\n",
       "      <th>2007-2008</th>\n",
       "      <th>2008-2009</th>\n",
       "      <th>2009-2010</th>\n",
       "      <th>2010-2011</th>\n",
       "      <th>2011-2012</th>\n",
       "      <th>2012-2013</th>\n",
       "      <th>2013-2014</th>\n",
       "      <th>2014-2015</th>\n",
       "      <th>2015-2016</th>\n",
       "    </tr>\n",
       "  </thead>\n",
       "  <tbody>\n",
       "    <tr>\n",
       "      <th>0</th>\n",
       "      <td>Western Cape</td>\n",
       "      <td>Cape Town Central</td>\n",
       "      <td>All theft not mentioned elsewhere</td>\n",
       "      <td>6692</td>\n",
       "      <td>6341</td>\n",
       "      <td>5966</td>\n",
       "      <td>5187</td>\n",
       "      <td>4985</td>\n",
       "      <td>5127</td>\n",
       "      <td>5285</td>\n",
       "      <td>5937</td>\n",
       "      <td>5600</td>\n",
       "      <td>5335</td>\n",
       "      <td>5176</td>\n",
       "    </tr>\n",
       "    <tr>\n",
       "      <th>1</th>\n",
       "      <td>Gauteng</td>\n",
       "      <td>Jhb Central</td>\n",
       "      <td>All theft not mentioned elsewhere</td>\n",
       "      <td>6093</td>\n",
       "      <td>4602</td>\n",
       "      <td>3761</td>\n",
       "      <td>3610</td>\n",
       "      <td>3267</td>\n",
       "      <td>3037</td>\n",
       "      <td>2886</td>\n",
       "      <td>2638</td>\n",
       "      <td>2809</td>\n",
       "      <td>3050</td>\n",
       "      <td>2434</td>\n",
       "    </tr>\n",
       "    <tr>\n",
       "      <th>2</th>\n",
       "      <td>Western Cape</td>\n",
       "      <td>Mitchells Plain</td>\n",
       "      <td>All theft not mentioned elsewhere</td>\n",
       "      <td>5341</td>\n",
       "      <td>6093</td>\n",
       "      <td>6316</td>\n",
       "      <td>6803</td>\n",
       "      <td>6035</td>\n",
       "      <td>5761</td>\n",
       "      <td>6108</td>\n",
       "      <td>5514</td>\n",
       "      <td>4975</td>\n",
       "      <td>4043</td>\n",
       "      <td>3635</td>\n",
       "    </tr>\n",
       "    <tr>\n",
       "      <th>3</th>\n",
       "      <td>Free State</td>\n",
       "      <td>Park Road</td>\n",
       "      <td>All theft not mentioned elsewhere</td>\n",
       "      <td>5108</td>\n",
       "      <td>4282</td>\n",
       "      <td>3834</td>\n",
       "      <td>3316</td>\n",
       "      <td>3101</td>\n",
       "      <td>3013</td>\n",
       "      <td>2679</td>\n",
       "      <td>3116</td>\n",
       "      <td>2927</td>\n",
       "      <td>2297</td>\n",
       "      <td>2103</td>\n",
       "    </tr>\n",
       "    <tr>\n",
       "      <th>4</th>\n",
       "      <td>Gauteng</td>\n",
       "      <td>Pretoria Central</td>\n",
       "      <td>All theft not mentioned elsewhere</td>\n",
       "      <td>5099</td>\n",
       "      <td>4536</td>\n",
       "      <td>3309</td>\n",
       "      <td>2694</td>\n",
       "      <td>2616</td>\n",
       "      <td>2606</td>\n",
       "      <td>2635</td>\n",
       "      <td>3226</td>\n",
       "      <td>3246</td>\n",
       "      <td>2892</td>\n",
       "      <td>3030</td>\n",
       "    </tr>\n",
       "  </tbody>\n",
       "</table>\n",
       "</div>"
      ],
      "text/plain": [
       "       province            station                           category  \\\n",
       "0  Western Cape  Cape Town Central  All theft not mentioned elsewhere   \n",
       "1       Gauteng        Jhb Central  All theft not mentioned elsewhere   \n",
       "2  Western Cape    Mitchells Plain  All theft not mentioned elsewhere   \n",
       "3    Free State          Park Road  All theft not mentioned elsewhere   \n",
       "4       Gauteng   Pretoria Central  All theft not mentioned elsewhere   \n",
       "\n",
       "   2005-2006  2006-2007  2007-2008  2008-2009  2009-2010  2010-2011  \\\n",
       "0       6692       6341       5966       5187       4985       5127   \n",
       "1       6093       4602       3761       3610       3267       3037   \n",
       "2       5341       6093       6316       6803       6035       5761   \n",
       "3       5108       4282       3834       3316       3101       3013   \n",
       "4       5099       4536       3309       2694       2616       2606   \n",
       "\n",
       "   2011-2012  2012-2013  2013-2014  2014-2015  2015-2016  \n",
       "0       5285       5937       5600       5335       5176  \n",
       "1       2886       2638       2809       3050       2434  \n",
       "2       6108       5514       4975       4043       3635  \n",
       "3       2679       3116       2927       2297       2103  \n",
       "4       2635       3226       3246       2892       3030  "
      ]
     },
     "execution_count": 70,
     "metadata": {},
     "output_type": "execute_result"
    }
   ],
   "source": [
    "SA_crime.head(5)"
   ]
  },
  {
   "cell_type": "markdown",
   "id": "70c5fb37-73cf-409a-a986-db4f34384c42",
   "metadata": {},
   "source": [
    "Identify the year columns (everything except province, station, category)"
   ]
  },
  {
   "cell_type": "code",
   "execution_count": 71,
   "id": "3ac46c4e-0444-4079-b2a0-d7614beda4a2",
   "metadata": {},
   "outputs": [],
   "source": [
    "year_cols = [col for col in SA_crime.columns if col not in ['province', 'station', 'category']]\n",
    "\n",
    "SA_crime_long = SA_crime.melt(\n",
    "    id_vars=['province', 'station', 'category'], \n",
    "    value_vars=year_cols,\n",
    "    var_name='year',\n",
    "    value_name='incidents'\n",
    ")"
   ]
  },
  {
   "cell_type": "code",
   "execution_count": 72,
   "id": "3c6b1e4b-cdd8-4a57-9a6d-213e0863aa50",
   "metadata": {},
   "outputs": [
    {
     "data": {
      "text/html": [
       "<div>\n",
       "<style scoped>\n",
       "    .dataframe tbody tr th:only-of-type {\n",
       "        vertical-align: middle;\n",
       "    }\n",
       "\n",
       "    .dataframe tbody tr th {\n",
       "        vertical-align: top;\n",
       "    }\n",
       "\n",
       "    .dataframe thead th {\n",
       "        text-align: right;\n",
       "    }\n",
       "</style>\n",
       "<table border=\"1\" class=\"dataframe\">\n",
       "  <thead>\n",
       "    <tr style=\"text-align: right;\">\n",
       "      <th></th>\n",
       "      <th>province</th>\n",
       "      <th>station</th>\n",
       "      <th>category</th>\n",
       "      <th>year</th>\n",
       "      <th>incidents</th>\n",
       "    </tr>\n",
       "  </thead>\n",
       "  <tbody>\n",
       "    <tr>\n",
       "      <th>0</th>\n",
       "      <td>Western Cape</td>\n",
       "      <td>Cape Town Central</td>\n",
       "      <td>All theft not mentioned elsewhere</td>\n",
       "      <td>2005-2006</td>\n",
       "      <td>6692</td>\n",
       "    </tr>\n",
       "    <tr>\n",
       "      <th>1</th>\n",
       "      <td>Gauteng</td>\n",
       "      <td>Jhb Central</td>\n",
       "      <td>All theft not mentioned elsewhere</td>\n",
       "      <td>2005-2006</td>\n",
       "      <td>6093</td>\n",
       "    </tr>\n",
       "    <tr>\n",
       "      <th>2</th>\n",
       "      <td>Western Cape</td>\n",
       "      <td>Mitchells Plain</td>\n",
       "      <td>All theft not mentioned elsewhere</td>\n",
       "      <td>2005-2006</td>\n",
       "      <td>5341</td>\n",
       "    </tr>\n",
       "    <tr>\n",
       "      <th>3</th>\n",
       "      <td>Free State</td>\n",
       "      <td>Park Road</td>\n",
       "      <td>All theft not mentioned elsewhere</td>\n",
       "      <td>2005-2006</td>\n",
       "      <td>5108</td>\n",
       "    </tr>\n",
       "    <tr>\n",
       "      <th>4</th>\n",
       "      <td>Gauteng</td>\n",
       "      <td>Pretoria Central</td>\n",
       "      <td>All theft not mentioned elsewhere</td>\n",
       "      <td>2005-2006</td>\n",
       "      <td>5099</td>\n",
       "    </tr>\n",
       "    <tr>\n",
       "      <th>5</th>\n",
       "      <td>North West</td>\n",
       "      <td>Rustenburg</td>\n",
       "      <td>All theft not mentioned elsewhere</td>\n",
       "      <td>2005-2006</td>\n",
       "      <td>4239</td>\n",
       "    </tr>\n",
       "    <tr>\n",
       "      <th>6</th>\n",
       "      <td>Kwazulu/Natal</td>\n",
       "      <td>Durban Central</td>\n",
       "      <td>All theft not mentioned elsewhere</td>\n",
       "      <td>2005-2006</td>\n",
       "      <td>4162</td>\n",
       "    </tr>\n",
       "    <tr>\n",
       "      <th>7</th>\n",
       "      <td>Gauteng</td>\n",
       "      <td>Brooklyn</td>\n",
       "      <td>All theft not mentioned elsewhere</td>\n",
       "      <td>2005-2006</td>\n",
       "      <td>3931</td>\n",
       "    </tr>\n",
       "    <tr>\n",
       "      <th>8</th>\n",
       "      <td>Gauteng</td>\n",
       "      <td>Booysens</td>\n",
       "      <td>All theft not mentioned elsewhere</td>\n",
       "      <td>2005-2006</td>\n",
       "      <td>3681</td>\n",
       "    </tr>\n",
       "    <tr>\n",
       "      <th>9</th>\n",
       "      <td>Gauteng</td>\n",
       "      <td>Hillbrow</td>\n",
       "      <td>All theft not mentioned elsewhere</td>\n",
       "      <td>2005-2006</td>\n",
       "      <td>3489</td>\n",
       "    </tr>\n",
       "  </tbody>\n",
       "</table>\n",
       "</div>"
      ],
      "text/plain": [
       "        province            station                           category  \\\n",
       "0   Western Cape  Cape Town Central  All theft not mentioned elsewhere   \n",
       "1        Gauteng        Jhb Central  All theft not mentioned elsewhere   \n",
       "2   Western Cape    Mitchells Plain  All theft not mentioned elsewhere   \n",
       "3     Free State          Park Road  All theft not mentioned elsewhere   \n",
       "4        Gauteng   Pretoria Central  All theft not mentioned elsewhere   \n",
       "5     North West         Rustenburg  All theft not mentioned elsewhere   \n",
       "6  Kwazulu/Natal     Durban Central  All theft not mentioned elsewhere   \n",
       "7        Gauteng           Brooklyn  All theft not mentioned elsewhere   \n",
       "8        Gauteng           Booysens  All theft not mentioned elsewhere   \n",
       "9        Gauteng           Hillbrow  All theft not mentioned elsewhere   \n",
       "\n",
       "        year  incidents  \n",
       "0  2005-2006       6692  \n",
       "1  2005-2006       6093  \n",
       "2  2005-2006       5341  \n",
       "3  2005-2006       5108  \n",
       "4  2005-2006       5099  \n",
       "5  2005-2006       4239  \n",
       "6  2005-2006       4162  \n",
       "7  2005-2006       3931  \n",
       "8  2005-2006       3681  \n",
       "9  2005-2006       3489  "
      ]
     },
     "execution_count": 72,
     "metadata": {},
     "output_type": "execute_result"
    }
   ],
   "source": [
    "SA_crime_long.head(10)"
   ]
  },
  {
   "cell_type": "code",
   "execution_count": 73,
   "id": "f19bc2db-eb57-4be4-8f0c-9d18f9242449",
   "metadata": {},
   "outputs": [
    {
     "data": {
      "text/html": [
       "<div>\n",
       "<style scoped>\n",
       "    .dataframe tbody tr th:only-of-type {\n",
       "        vertical-align: middle;\n",
       "    }\n",
       "\n",
       "    .dataframe tbody tr th {\n",
       "        vertical-align: top;\n",
       "    }\n",
       "\n",
       "    .dataframe thead th {\n",
       "        text-align: right;\n",
       "    }\n",
       "</style>\n",
       "<table border=\"1\" class=\"dataframe\">\n",
       "  <thead>\n",
       "    <tr style=\"text-align: right;\">\n",
       "      <th></th>\n",
       "      <th>Province</th>\n",
       "      <th>Population</th>\n",
       "      <th>Area</th>\n",
       "      <th>Density</th>\n",
       "    </tr>\n",
       "  </thead>\n",
       "  <tbody>\n",
       "    <tr>\n",
       "      <th>0</th>\n",
       "      <td>Gauteng</td>\n",
       "      <td>12272263</td>\n",
       "      <td>18178</td>\n",
       "      <td>675.1</td>\n",
       "    </tr>\n",
       "    <tr>\n",
       "      <th>1</th>\n",
       "      <td>Kwazulu/Natal</td>\n",
       "      <td>10267300</td>\n",
       "      <td>94361</td>\n",
       "      <td>108.8</td>\n",
       "    </tr>\n",
       "    <tr>\n",
       "      <th>2</th>\n",
       "      <td>Mpumalanga</td>\n",
       "      <td>4039939</td>\n",
       "      <td>76495</td>\n",
       "      <td>52.8</td>\n",
       "    </tr>\n",
       "    <tr>\n",
       "      <th>3</th>\n",
       "      <td>Western Cape</td>\n",
       "      <td>5822734</td>\n",
       "      <td>129462</td>\n",
       "      <td>45.0</td>\n",
       "    </tr>\n",
       "    <tr>\n",
       "      <th>4</th>\n",
       "      <td>Limpopo</td>\n",
       "      <td>5404868</td>\n",
       "      <td>125755</td>\n",
       "      <td>43.0</td>\n",
       "    </tr>\n",
       "  </tbody>\n",
       "</table>\n",
       "</div>"
      ],
      "text/plain": [
       "        Province  Population    Area  Density\n",
       "0        Gauteng    12272263   18178    675.1\n",
       "1  Kwazulu/Natal    10267300   94361    108.8\n",
       "2     Mpumalanga     4039939   76495     52.8\n",
       "3   Western Cape     5822734  129462     45.0\n",
       "4        Limpopo     5404868  125755     43.0"
      ]
     },
     "execution_count": 73,
     "metadata": {},
     "output_type": "execute_result"
    }
   ],
   "source": [
    "population.head()"
   ]
  },
  {
   "cell_type": "code",
   "execution_count": 74,
   "id": "2da43e5a-bd6e-4f9e-9f8d-c01dd593a3e5",
   "metadata": {},
   "outputs": [],
   "source": [
    "population.columns = population.columns.str.strip().str.lower().str.replace(' ', '_')"
   ]
  },
  {
   "cell_type": "code",
   "execution_count": 75,
   "id": "0a4a7ccb-4039-49f3-bb7f-d0396acd106b",
   "metadata": {},
   "outputs": [
    {
     "name": "stdout",
     "output_type": "stream",
     "text": [
      "province      0.0\n",
      "population    0.0\n",
      "area          0.0\n",
      "density       0.0\n",
      "dtype: float64\n"
     ]
    }
   ],
   "source": [
    "missing_percentage = population.isnull().sum() / len(population) * 100\n",
    "print(missing_percentage)"
   ]
  },
  {
   "cell_type": "code",
   "execution_count": 76,
   "id": "d5e8e6e2-8987-404f-b071-a6a5d8262909",
   "metadata": {},
   "outputs": [
    {
     "data": {
      "text/html": [
       "<div>\n",
       "<style scoped>\n",
       "    .dataframe tbody tr th:only-of-type {\n",
       "        vertical-align: middle;\n",
       "    }\n",
       "\n",
       "    .dataframe tbody tr th {\n",
       "        vertical-align: top;\n",
       "    }\n",
       "\n",
       "    .dataframe thead th {\n",
       "        text-align: right;\n",
       "    }\n",
       "</style>\n",
       "<table border=\"1\" class=\"dataframe\">\n",
       "  <thead>\n",
       "    <tr style=\"text-align: right;\">\n",
       "      <th></th>\n",
       "      <th>province</th>\n",
       "      <th>population</th>\n",
       "      <th>area</th>\n",
       "      <th>density</th>\n",
       "    </tr>\n",
       "  </thead>\n",
       "  <tbody>\n",
       "    <tr>\n",
       "      <th>0</th>\n",
       "      <td>Gauteng</td>\n",
       "      <td>12272263</td>\n",
       "      <td>18178</td>\n",
       "      <td>675.1</td>\n",
       "    </tr>\n",
       "    <tr>\n",
       "      <th>1</th>\n",
       "      <td>Kwazulu/Natal</td>\n",
       "      <td>10267300</td>\n",
       "      <td>94361</td>\n",
       "      <td>108.8</td>\n",
       "    </tr>\n",
       "    <tr>\n",
       "      <th>2</th>\n",
       "      <td>Mpumalanga</td>\n",
       "      <td>4039939</td>\n",
       "      <td>76495</td>\n",
       "      <td>52.8</td>\n",
       "    </tr>\n",
       "    <tr>\n",
       "      <th>3</th>\n",
       "      <td>Western Cape</td>\n",
       "      <td>5822734</td>\n",
       "      <td>129462</td>\n",
       "      <td>45.0</td>\n",
       "    </tr>\n",
       "    <tr>\n",
       "      <th>4</th>\n",
       "      <td>Limpopo</td>\n",
       "      <td>5404868</td>\n",
       "      <td>125755</td>\n",
       "      <td>43.0</td>\n",
       "    </tr>\n",
       "  </tbody>\n",
       "</table>\n",
       "</div>"
      ],
      "text/plain": [
       "        province  population    area  density\n",
       "0        Gauteng    12272263   18178    675.1\n",
       "1  Kwazulu/Natal    10267300   94361    108.8\n",
       "2     Mpumalanga     4039939   76495     52.8\n",
       "3   Western Cape     5822734  129462     45.0\n",
       "4        Limpopo     5404868  125755     43.0"
      ]
     },
     "execution_count": 76,
     "metadata": {},
     "output_type": "execute_result"
    }
   ],
   "source": [
    "population.head(5)"
   ]
  },
  {
   "cell_type": "markdown",
   "id": "624cac4e-0de3-42f1-8f63-d29b41385e6b",
   "metadata": {},
   "source": [
    "## MERGING ALL THE TABLES"
   ]
  },
  {
   "cell_type": "markdown",
   "id": "3c6658be-eee0-410a-8cde-dfb61d186adf",
   "metadata": {},
   "source": [
    "Merge crime incidents with population"
   ]
  },
  {
   "cell_type": "code",
   "execution_count": 77,
   "id": "4779a1aa-2410-4931-a3d3-3c66540d180b",
   "metadata": {},
   "outputs": [],
   "source": [
    "crime_with_pop = pd.merge(crime_incidents, population, on='province', how='left')\n"
   ]
  },
  {
   "cell_type": "code",
   "execution_count": 78,
   "id": "36f30bab-1549-4887-8d9f-01aa6a1573d5",
   "metadata": {},
   "outputs": [
    {
     "data": {
      "text/html": [
       "<div>\n",
       "<style scoped>\n",
       "    .dataframe tbody tr th:only-of-type {\n",
       "        vertical-align: middle;\n",
       "    }\n",
       "\n",
       "    .dataframe tbody tr th {\n",
       "        vertical-align: top;\n",
       "    }\n",
       "\n",
       "    .dataframe thead th {\n",
       "        text-align: right;\n",
       "    }\n",
       "</style>\n",
       "<table border=\"1\" class=\"dataframe\">\n",
       "  <thead>\n",
       "    <tr style=\"text-align: right;\">\n",
       "      <th></th>\n",
       "      <th>police_station</th>\n",
       "      <th>province</th>\n",
       "      <th>crime</th>\n",
       "      <th>year</th>\n",
       "      <th>incidents</th>\n",
       "      <th>population</th>\n",
       "      <th>area</th>\n",
       "      <th>density</th>\n",
       "    </tr>\n",
       "  </thead>\n",
       "  <tbody>\n",
       "    <tr>\n",
       "      <th>0</th>\n",
       "      <td>Cape Town Central</td>\n",
       "      <td>Western Cape</td>\n",
       "      <td>All theft not mentioned elsewhere</td>\n",
       "      <td>2005-2006</td>\n",
       "      <td>6692</td>\n",
       "      <td>5822734</td>\n",
       "      <td>129462</td>\n",
       "      <td>45.0</td>\n",
       "    </tr>\n",
       "    <tr>\n",
       "      <th>1</th>\n",
       "      <td>Cape Town Central</td>\n",
       "      <td>Western Cape</td>\n",
       "      <td>All theft not mentioned elsewhere</td>\n",
       "      <td>2006-2007</td>\n",
       "      <td>6341</td>\n",
       "      <td>5822734</td>\n",
       "      <td>129462</td>\n",
       "      <td>45.0</td>\n",
       "    </tr>\n",
       "    <tr>\n",
       "      <th>2</th>\n",
       "      <td>Cape Town Central</td>\n",
       "      <td>Western Cape</td>\n",
       "      <td>All theft not mentioned elsewhere</td>\n",
       "      <td>2007-2008</td>\n",
       "      <td>5966</td>\n",
       "      <td>5822734</td>\n",
       "      <td>129462</td>\n",
       "      <td>45.0</td>\n",
       "    </tr>\n",
       "    <tr>\n",
       "      <th>3</th>\n",
       "      <td>Cape Town Central</td>\n",
       "      <td>Western Cape</td>\n",
       "      <td>All theft not mentioned elsewhere</td>\n",
       "      <td>2008-2009</td>\n",
       "      <td>5187</td>\n",
       "      <td>5822734</td>\n",
       "      <td>129462</td>\n",
       "      <td>45.0</td>\n",
       "    </tr>\n",
       "    <tr>\n",
       "      <th>4</th>\n",
       "      <td>Cape Town Central</td>\n",
       "      <td>Western Cape</td>\n",
       "      <td>All theft not mentioned elsewhere</td>\n",
       "      <td>2009-2010</td>\n",
       "      <td>4985</td>\n",
       "      <td>5822734</td>\n",
       "      <td>129462</td>\n",
       "      <td>45.0</td>\n",
       "    </tr>\n",
       "  </tbody>\n",
       "</table>\n",
       "</div>"
      ],
      "text/plain": [
       "      police_station      province                              crime  \\\n",
       "0  Cape Town Central  Western Cape  All theft not mentioned elsewhere   \n",
       "1  Cape Town Central  Western Cape  All theft not mentioned elsewhere   \n",
       "2  Cape Town Central  Western Cape  All theft not mentioned elsewhere   \n",
       "3  Cape Town Central  Western Cape  All theft not mentioned elsewhere   \n",
       "4  Cape Town Central  Western Cape  All theft not mentioned elsewhere   \n",
       "\n",
       "        year  incidents  population    area  density  \n",
       "0  2005-2006       6692     5822734  129462     45.0  \n",
       "1  2006-2007       6341     5822734  129462     45.0  \n",
       "2  2007-2008       5966     5822734  129462     45.0  \n",
       "3  2008-2009       5187     5822734  129462     45.0  \n",
       "4  2009-2010       4985     5822734  129462     45.0  "
      ]
     },
     "execution_count": 78,
     "metadata": {},
     "output_type": "execute_result"
    }
   ],
   "source": [
    "crime_with_pop.head(5)"
   ]
  },
  {
   "cell_type": "code",
   "execution_count": 79,
   "id": "70ac1bd4-4688-4dd3-9693-98b52b70bd0e",
   "metadata": {},
   "outputs": [],
   "source": [
    "SA_crime_long = pd.merge(SA_crime_long, population, on='province', how='left')\n"
   ]
  },
  {
   "cell_type": "code",
   "execution_count": 80,
   "id": "ee805f34-8c8b-434b-921c-e61c658b0487",
   "metadata": {},
   "outputs": [
    {
     "data": {
      "text/html": [
       "<div>\n",
       "<style scoped>\n",
       "    .dataframe tbody tr th:only-of-type {\n",
       "        vertical-align: middle;\n",
       "    }\n",
       "\n",
       "    .dataframe tbody tr th {\n",
       "        vertical-align: top;\n",
       "    }\n",
       "\n",
       "    .dataframe thead th {\n",
       "        text-align: right;\n",
       "    }\n",
       "</style>\n",
       "<table border=\"1\" class=\"dataframe\">\n",
       "  <thead>\n",
       "    <tr style=\"text-align: right;\">\n",
       "      <th></th>\n",
       "      <th>province</th>\n",
       "      <th>station</th>\n",
       "      <th>category</th>\n",
       "      <th>year</th>\n",
       "      <th>incidents</th>\n",
       "      <th>population</th>\n",
       "      <th>area</th>\n",
       "      <th>density</th>\n",
       "    </tr>\n",
       "  </thead>\n",
       "  <tbody>\n",
       "    <tr>\n",
       "      <th>0</th>\n",
       "      <td>Western Cape</td>\n",
       "      <td>Cape Town Central</td>\n",
       "      <td>All theft not mentioned elsewhere</td>\n",
       "      <td>2005-2006</td>\n",
       "      <td>6692</td>\n",
       "      <td>5822734</td>\n",
       "      <td>129462</td>\n",
       "      <td>45.0</td>\n",
       "    </tr>\n",
       "    <tr>\n",
       "      <th>1</th>\n",
       "      <td>Gauteng</td>\n",
       "      <td>Jhb Central</td>\n",
       "      <td>All theft not mentioned elsewhere</td>\n",
       "      <td>2005-2006</td>\n",
       "      <td>6093</td>\n",
       "      <td>12272263</td>\n",
       "      <td>18178</td>\n",
       "      <td>675.1</td>\n",
       "    </tr>\n",
       "    <tr>\n",
       "      <th>2</th>\n",
       "      <td>Western Cape</td>\n",
       "      <td>Mitchells Plain</td>\n",
       "      <td>All theft not mentioned elsewhere</td>\n",
       "      <td>2005-2006</td>\n",
       "      <td>5341</td>\n",
       "      <td>5822734</td>\n",
       "      <td>129462</td>\n",
       "      <td>45.0</td>\n",
       "    </tr>\n",
       "    <tr>\n",
       "      <th>3</th>\n",
       "      <td>Free State</td>\n",
       "      <td>Park Road</td>\n",
       "      <td>All theft not mentioned elsewhere</td>\n",
       "      <td>2005-2006</td>\n",
       "      <td>5108</td>\n",
       "      <td>2745590</td>\n",
       "      <td>129825</td>\n",
       "      <td>21.1</td>\n",
       "    </tr>\n",
       "    <tr>\n",
       "      <th>4</th>\n",
       "      <td>Gauteng</td>\n",
       "      <td>Pretoria Central</td>\n",
       "      <td>All theft not mentioned elsewhere</td>\n",
       "      <td>2005-2006</td>\n",
       "      <td>5099</td>\n",
       "      <td>12272263</td>\n",
       "      <td>18178</td>\n",
       "      <td>675.1</td>\n",
       "    </tr>\n",
       "  </tbody>\n",
       "</table>\n",
       "</div>"
      ],
      "text/plain": [
       "       province            station                           category  \\\n",
       "0  Western Cape  Cape Town Central  All theft not mentioned elsewhere   \n",
       "1       Gauteng        Jhb Central  All theft not mentioned elsewhere   \n",
       "2  Western Cape    Mitchells Plain  All theft not mentioned elsewhere   \n",
       "3    Free State          Park Road  All theft not mentioned elsewhere   \n",
       "4       Gauteng   Pretoria Central  All theft not mentioned elsewhere   \n",
       "\n",
       "        year  incidents  population    area  density  \n",
       "0  2005-2006       6692     5822734  129462     45.0  \n",
       "1  2005-2006       6093    12272263   18178    675.1  \n",
       "2  2005-2006       5341     5822734  129462     45.0  \n",
       "3  2005-2006       5108     2745590  129825     21.1  \n",
       "4  2005-2006       5099    12272263   18178    675.1  "
      ]
     },
     "execution_count": 80,
     "metadata": {},
     "output_type": "execute_result"
    }
   ],
   "source": [
    "SA_crime_long.head(5)"
   ]
  },
  {
   "cell_type": "markdown",
   "id": "ece08e59-ffc2-4f4a-858e-a5382ef6154a",
   "metadata": {},
   "source": [
    "Checking the merge"
   ]
  },
  {
   "cell_type": "code",
   "execution_count": 81,
   "id": "4052be32-5d07-4d8b-8cc6-b7d613b90252",
   "metadata": {},
   "outputs": [
    {
     "name": "stdout",
     "output_type": "stream",
     "text": [
      "(1000, 8)\n",
      "police_station    0\n",
      "province          0\n",
      "crime             0\n",
      "year              0\n",
      "incidents         0\n",
      "population        0\n",
      "area              0\n",
      "density           0\n",
      "dtype: int64\n"
     ]
    }
   ],
   "source": [
    "print(crime_with_pop.shape)\n",
    "print(crime_with_pop.isnull().sum())"
   ]
  },
  {
   "cell_type": "markdown",
   "id": "7b57ee9a-adeb-4f52-97a7-6d7acd160ab0",
   "metadata": {},
   "source": [
    "## KNN IMPUTATION"
   ]
  },
  {
   "cell_type": "markdown",
   "id": "acb2e757-0f72-4135-88fc-eb7ab2c5ebde",
   "metadata": {},
   "source": [
    "I did not apply KNN imputation because all numeric columns in the merged dataset have complete values. Since there are no missing values, imputation is unnecessary. This ensures that the original data integrity is preserved without introducing any artificial estimates.\n"
   ]
  },
  {
   "cell_type": "markdown",
   "id": "537a4e1a-c9a2-4db9-b38f-4efc2901a38e",
   "metadata": {},
   "source": [
    "## VISUALIZATION"
   ]
  },
  {
   "cell_type": "markdown",
   "id": "5f546f22-b005-4709-b674-1b2f15550907",
   "metadata": {},
   "source": [
    "### incidents per 100k population"
   ]
  },
  {
   "cell_type": "code",
   "execution_count": 82,
   "id": "650b3276-bfea-415e-a1b7-ae8008d19157",
   "metadata": {},
   "outputs": [],
   "source": [
    "crime_with_pop['incidents_per_100k'] = (crime_with_pop['incidents'] / crime_with_pop['population']) * 100000"
   ]
  },
  {
   "cell_type": "markdown",
   "id": "9ef6ceac-542c-4774-9a3b-870b94055117",
   "metadata": {},
   "source": [
    "### Bar Chart – Total incidents per province"
   ]
  },
  {
   "cell_type": "code",
   "execution_count": 83,
   "id": "746d3f84-7f3f-4e42-a163-6a8f9955481e",
   "metadata": {},
   "outputs": [
    {
     "data": {
      "image/png": "[encoded data removed]",
      "text/plain": [
       "<Figure size 1000x500 with 1 Axes>"
      ]
     },
     "metadata": {},
     "output_type": "display_data"
    }
   ],
   "source": [
    "import matplotlib.pyplot as plt\n",
    "\n",
    "incidents_by_province = crime_with_pop.groupby('province')['incidents'].sum().sort_values(ascending=False)\n",
    "\n",
    "plt.figure(figsize=(10,5))\n",
    "incidents_by_province.plot(kind='bar', color='darkblue')\n",
    "plt.title(\"Total Crime Incidents per Province\")\n",
    "plt.xlabel(\"Province\")\n",
    "plt.ylabel(\"Number of Incidents\")\n",
    "plt.xticks(rotation=45)\n",
    "plt.show()\n"
   ]
  },
  {
   "cell_type": "markdown",
   "id": "5101e905-cdb1-456f-8ff2-8315917620c5",
   "metadata": {},
   "source": [
    "### Scatter Plot – Population vs. Incidents per 100k"
   ]
  },
  {
   "cell_type": "code",
   "execution_count": 84,
   "id": "9200b3f1-0639-4b79-94d4-4b177b426a14",
   "metadata": {},
   "outputs": [
    {
     "data": {
      "image/png": "[encoded data removed]",
      "text/plain": [
       "<Figure size 800x500 with 1 Axes>"
      ]
     },
     "metadata": {},
     "output_type": "display_data"
    }
   ],
   "source": [
    "plt.figure(figsize=(8,5))\n",
    "plt.scatter(crime_with_pop['population'], crime_with_pop['incidents_per_100k'], color='purple', alpha=0.6)\n",
    "plt.title(\"Population vs. Crime Incidents per 100k\")\n",
    "plt.xlabel(\"Population\")\n",
    "plt.ylabel(\"Incidents per 100k\")\n",
    "plt.show()\n"
   ]
  },
  {
   "cell_type": "markdown",
   "id": "a5b42bca-1ed8-413a-9e9e-96f82ee030da",
   "metadata": {},
   "source": [
    "### Line Graph – Total incidents over the years"
   ]
  },
  {
   "cell_type": "code",
   "execution_count": 85,
   "id": "4fb8056e-414d-40d6-9ec0-ff39efe7f0b5",
   "metadata": {},
   "outputs": [
    {
     "data": {
      "image/png": "[encoded data removed]",
      "text/plain": [
       "<Figure size 1000x500 with 1 Axes>"
      ]
     },
     "metadata": {},
     "output_type": "display_data"
    }
   ],
   "source": [
    "incidents_by_year = crime_with_pop.groupby('year')['incidents'].sum()\n",
    "\n",
    "plt.figure(figsize=(10,5))\n",
    "incidents_by_year.plot(kind='line', marker='o', color='green')\n",
    "plt.title(\"Total Crime Incidents Over Years\")\n",
    "plt.xlabel(\"Year\")\n",
    "plt.ylabel(\"Number of Incidents\")\n",
    "plt.grid(True)\n",
    "plt.show()\n"
   ]
  },
  {
   "cell_type": "markdown",
   "id": "2ea39f2e-ab59-42df-a5a9-de5cbf699e8b",
   "metadata": {},
   "source": [
    "### Histogram – Distribution of incidents per 100k"
   ]
  },
  {
   "cell_type": "code",
   "execution_count": 86,
   "id": "1075772b-bccf-48b3-af85-5624dc7f6f17",
   "metadata": {},
   "outputs": [
    {
     "data": {
      "image/png": "[encoded data removed]",
      "text/plain": [
       "<Figure size 800x500 with 1 Axes>"
      ]
     },
     "metadata": {},
     "output_type": "display_data"
    }
   ],
   "source": [
    "plt.figure(figsize=(8,5))\n",
    "plt.hist(crime_with_pop['incidents_per_100k'], bins=20, color='yellow', edgecolor='black')\n",
    "plt.title(\"Distribution of Crime Incidents per 100k Population\")\n",
    "plt.xlabel(\"Incidents per 100k\")\n",
    "plt.ylabel(\"Frequency\")\n",
    "plt.show()\n"
   ]
  },
  {
   "cell_type": "markdown",
   "id": "a88bd06b-5a89-4be2-8f69-05503a2845a8",
   "metadata": {},
   "source": [
    "### correlation heatmap to see how these variables relate to each other."
   ]
  },
  {
   "cell_type": "code",
   "execution_count": 87,
   "id": "5d010dce-2a98-40e8-9ecd-2c60d353a5af",
   "metadata": {},
   "outputs": [
    {
     "data": {
      "image/png": "[encoded data removed]",
      "text/plain": [
       "<Figure size 800x500 with 2 Axes>"
      ]
     },
     "metadata": {},
     "output_type": "display_data"
    }
   ],
   "source": [
    "import seaborn as sns\n",
    "\n",
    "numeric_cols = ['incidents', 'population', 'area', 'density', 'incidents_per_100k']\n",
    "\n",
    "corr_matrix = crime_with_pop[numeric_cols].corr()\n",
    "\n",
    "\n",
    "plt.figure(figsize=(8,5))\n",
    "sns.heatmap(corr_matrix, annot=True, cmap='coolwarm', fmt=\".2f\")\n",
    "plt.title(\"Correlation Between Crime and Population Metrics\")\n",
    "plt.show()\n"
   ]
  },
  {
   "cell_type": "markdown",
   "id": "5f660391-fea7-4ab6-97af-734a008460a6",
   "metadata": {},
   "source": [
    "## SUMMARY OF FINDINGS"
   ]
  },
  {
   "cell_type": "markdown",
   "id": "547a7d93-08d6-47f0-977e-e30e88cfe943",
   "metadata": {},
   "source": [
    "The visualizations reveal clear patterns in crime across South Africa. The bar chart highlights provinces with the highest total crime incidents, showing geographic disparities in crime levels. The histogram of incidents per 100,000 people shows how crime intensity is distributed, revealing areas with unusually high or low rates. The scatter plot demonstrates the relationship between population and crime rate, helping identify whether larger populations experience proportionally higher crime and highlighting potential outliers. The line graph illustrates crime trends over the years, uncovering seasonal patterns or spikes that are important for forecasting. Finally, the heatmap shows correlations between numeric variables such as population, density, and incidents, revealing which factors are strongly linked and can guide further analysis or modeling.\n",
    "\n",
    "### outliers\n",
    "The analysis of the visualizations indicates that there are clear outliers in the dataset, particularly in the distribution of crime incidents per 100,000 people. The histogram reveals that most provinces fall within the range of 0 to 50 incidents per 100,000, but a few provinces have values exceeding 100 and even approaching 175, which makes them significant outliers. Similarly, the scatter plot comparing population to incidents per 100,000 confirms this pattern, as most points cluster at lower crime rates, while a few stand out with disproportionately high rates regardless of population size. These outliers likely correspond to provinces such as the Western Cape and Northern Cape, which historically exhibit high per capita crime rates, and possibly Gauteng, although its high total incidents are largely due to its large population. The bar chart shows Gauteng and Western Cape with extremely high total incidents compared to other provinces, but this is not necessarily an anomaly when normalized by population. The line graph of crime trends over time does not display any unusual spikes or drops, and the heatmap only shows correlations rather than individual anomalies. Overall, the most evident outliers are provinces with incidents per 100,000 significantly above 100, as highlighted by the histogram and scatter plot."
   ]
  },
  {
   "cell_type": "markdown",
   "id": "94ec97f0-fde8-4c61-898a-12ffa420bd7e",
   "metadata": {},
   "source": [
    "## Classification\n"
   ]
  },
  {
   "cell_type": "markdown",
   "id": "50ebacfc-ed3f-45ab-a584-41dfcce5a2c4",
   "metadata": {},
   "source": [
    "### Define Hotspots"
   ]
  },
  {
   "cell_type": "code",
   "execution_count": 88,
   "id": "6f97e912-d2f3-44ae-86b9-cfdb287ea314",
   "metadata": {},
   "outputs": [
    {
     "data": {
      "text/plain": [
       "hotspot\n",
       "0    750\n",
       "1    250\n",
       "Name: count, dtype: int64"
      ]
     },
     "execution_count": 88,
     "metadata": {},
     "output_type": "execute_result"
    }
   ],
   "source": [
    "\n",
    "threshold = crime_with_pop['incidents'].quantile(0.75) \n",
    "crime_with_pop['hotspot'] = (crime_with_pop['incidents'] >= threshold).astype(int)\n",
    "\n",
    "\n",
    "crime_with_pop['hotspot'].value_counts()\n"
   ]
  },
  {
   "cell_type": "markdown",
   "id": "f483d185-36e1-4319-b725-39f1ba5fc70f",
   "metadata": {},
   "source": [
    "### Using numeric and categorical features to predict hotspot."
   ]
  },
  {
   "cell_type": "code",
   "execution_count": 89,
   "id": "bfaee888-3f6f-4468-a054-3f330e91e535",
   "metadata": {},
   "outputs": [],
   "source": [
    "\n",
    "X = crime_with_pop[['population', 'density']] \n",
    "y = crime_with_pop['hotspot']  \n",
    "\n",
    "\n",
    "X = pd.get_dummies(crime_with_pop[['province']], drop_first=True) \n"
   ]
  },
  {
   "cell_type": "markdown",
   "id": "b9d8a011-23dc-4267-8383-b6ccb4a6ec5a",
   "metadata": {},
   "source": [
    "### Split Data"
   ]
  },
  {
   "cell_type": "code",
   "execution_count": 90,
   "id": "84d8e794-b147-4dad-aa51-64a16c3f9dce",
   "metadata": {},
   "outputs": [],
   "source": [
    "from sklearn.model_selection import train_test_split\n",
    "\n",
    "X_train, X_test, y_train, y_test = train_test_split(X, y, test_size=0.2, random_state=42)\n"
   ]
  },
  {
   "cell_type": "markdown",
   "id": "52acb822-bdf7-49fb-ab70-2938b462bc31",
   "metadata": {},
   "source": [
    "### Build Random Forest Classifier"
   ]
  },
  {
   "cell_type": "code",
   "execution_count": 98,
   "id": "1e2fbc5e-5a3b-4ed1-9a82-ef7c6e31b7aa",
   "metadata": {},
   "outputs": [
    {
     "data": {
      "text/html": [
       "<style>#sk-container-id-3 {\n",
       "  /* Definition of color scheme common for light and dark mode */\n",
       "  --sklearn-color-text: #000;\n",
       "  --sklearn-color-text-muted: #666;\n",
       "  --sklearn-color-line: gray;\n",
       "  /* Definition of color scheme for unfitted estimators */\n",
       "  --sklearn-color-unfitted-level-0: #fff5e6;\n",
       "  --sklearn-color-unfitted-level-1: #f6e4d2;\n",
       "  --sklearn-color-unfitted-level-2: #ffe0b3;\n",
       "  --sklearn-color-unfitted-level-3: chocolate;\n",
       "  /* Definition of color scheme for fitted estimators */\n",
       "  --sklearn-color-fitted-level-0: #f0f8ff;\n",
       "  --sklearn-color-fitted-level-1: #d4ebff;\n",
       "  --sklearn-color-fitted-level-2: #b3dbfd;\n",
       "  --sklearn-color-fitted-level-3: cornflowerblue;\n",
       "\n",
       "  /* Specific color for light theme */\n",
       "  --sklearn-color-text-on-default-background: var(--sg-text-color, var(--theme-code-foreground, var(--jp-content-font-color1, black)));\n",
       "  --sklearn-color-background: var(--sg-background-color, var(--theme-background, var(--jp-layout-color0, white)));\n",
       "  --sklearn-color-border-box: var(--sg-text-color, var(--theme-code-foreground, var(--jp-content-font-color1, black)));\n",
       "  --sklearn-color-icon: #696969;\n",
       "\n",
       "  @media (prefers-color-scheme: dark) {\n",
       "    /* Redefinition of color scheme for dark theme */\n",
       "    --sklearn-color-text-on-default-background: var(--sg-text-color, var(--theme-code-foreground, var(--jp-content-font-color1, white)));\n",
       "    --sklearn-color-background: var(--sg-background-color, var(--theme-background, var(--jp-layout-color0, #111)));\n",
       "    --sklearn-color-border-box: var(--sg-text-color, var(--theme-code-foreground, var(--jp-content-font-color1, white)));\n",
       "    --sklearn-color-icon: #878787;\n",
       "  }\n",
       "}\n",
       "\n",
       "#sk-container-id-3 {\n",
       "  color: var(--sklearn-color-text);\n",
       "}\n",
       "\n",
       "#sk-container-id-3 pre {\n",
       "  padding: 0;\n",
       "}\n",
       "\n",
       "#sk-container-id-3 input.sk-hidden--visually {\n",
       "  border: 0;\n",
       "  clip: rect(1px 1px 1px 1px);\n",
       "  clip: rect(1px, 1px, 1px, 1px);\n",
       "  height: 1px;\n",
       "  margin: -1px;\n",
       "  overflow: hidden;\n",
       "  padding: 0;\n",
       "  position: absolute;\n",
       "  width: 1px;\n",
       "}\n",
       "\n",
       "#sk-container-id-3 div.sk-dashed-wrapped {\n",
       "  border: 1px dashed var(--sklearn-color-line);\n",
       "  margin: 0 0.4em 0.5em 0.4em;\n",
       "  box-sizing: border-box;\n",
       "  padding-bottom: 0.4em;\n",
       "  background-color: var(--sklearn-color-background);\n",
       "}\n",
       "\n",
       "#sk-container-id-3 div.sk-container {\n",
       "  /* jupyter's `normalize.less` sets `[hidden] { display: none; }`\n",
       "     but bootstrap.min.css set `[hidden] { display: none !important; }`\n",
       "     so we also need the `!important` here to be able to override the\n",
       "     default hidden behavior on the sphinx rendered scikit-learn.org.\n",
       "     See: https://github.com/scikit-learn/scikit-learn/issues/21755 */\n",
       "  display: inline-block !important;\n",
       "  position: relative;\n",
       "}\n",
       "\n",
       "#sk-container-id-3 div.sk-text-repr-fallback {\n",
       "  display: none;\n",
       "}\n",
       "\n",
       "div.sk-parallel-item,\n",
       "div.sk-serial,\n",
       "div.sk-item {\n",
       "  /* draw centered vertical line to link estimators */\n",
       "  background-image: linear-gradient(var(--sklearn-color-text-on-default-background), var(--sklearn-color-text-on-default-background));\n",
       "  background-size: 2px 100%;\n",
       "  background-repeat: no-repeat;\n",
       "  background-position: center center;\n",
       "}\n",
       "\n",
       "/* Parallel-specific style estimator block */\n",
       "\n",
       "#sk-container-id-3 div.sk-parallel-item::after {\n",
       "  content: \"\";\n",
       "  width: 100%;\n",
       "  border-bottom: 2px solid var(--sklearn-color-text-on-default-background);\n",
       "  flex-grow: 1;\n",
       "}\n",
       "\n",
       "#sk-container-id-3 div.sk-parallel {\n",
       "  display: flex;\n",
       "  align-items: stretch;\n",
       "  justify-content: center;\n",
       "  background-color: var(--sklearn-color-background);\n",
       "  position: relative;\n",
       "}\n",
       "\n",
       "#sk-container-id-3 div.sk-parallel-item {\n",
       "  display: flex;\n",
       "  flex-direction: column;\n",
       "}\n",
       "\n",
       "#sk-container-id-3 div.sk-parallel-item:first-child::after {\n",
       "  align-self: flex-end;\n",
       "  width: 50%;\n",
       "}\n",
       "\n",
       "#sk-container-id-3 div.sk-parallel-item:last-child::after {\n",
       "  align-self: flex-start;\n",
       "  width: 50%;\n",
       "}\n",
       "\n",
       "#sk-container-id-3 div.sk-parallel-item:only-child::after {\n",
       "  width: 0;\n",
       "}\n",
       "\n",
       "/* Serial-specific style estimator block */\n",
       "\n",
       "#sk-container-id-3 div.sk-serial {\n",
       "  display: flex;\n",
       "  flex-direction: column;\n",
       "  align-items: center;\n",
       "  background-color: var(--sklearn-color-background);\n",
       "  padding-right: 1em;\n",
       "  padding-left: 1em;\n",
       "}\n",
       "\n",
       "\n",
       "/* Toggleable style: style used for estimator/Pipeline/ColumnTransformer box that is\n",
       "clickable and can be expanded/collapsed.\n",
       "- Pipeline and ColumnTransformer use this feature and define the default style\n",
       "- Estimators will overwrite some part of the style using the `sk-estimator` class\n",
       "*/\n",
       "\n",
       "/* Pipeline and ColumnTransformer style (default) */\n",
       "\n",
       "#sk-container-id-3 div.sk-toggleable {\n",
       "  /* Default theme specific background. It is overwritten whether we have a\n",
       "  specific estimator or a Pipeline/ColumnTransformer */\n",
       "  background-color: var(--sklearn-color-background);\n",
       "}\n",
       "\n",
       "/* Toggleable label */\n",
       "#sk-container-id-3 label.sk-toggleable__label {\n",
       "  cursor: pointer;\n",
       "  display: flex;\n",
       "  width: 100%;\n",
       "  margin-bottom: 0;\n",
       "  padding: 0.5em;\n",
       "  box-sizing: border-box;\n",
       "  text-align: center;\n",
       "  align-items: start;\n",
       "  justify-content: space-between;\n",
       "  gap: 0.5em;\n",
       "}\n",
       "\n",
       "#sk-container-id-3 label.sk-toggleable__label .caption {\n",
       "  font-size: 0.6rem;\n",
       "  font-weight: lighter;\n",
       "  color: var(--sklearn-color-text-muted);\n",
       "}\n",
       "\n",
       "#sk-container-id-3 label.sk-toggleable__label-arrow:before {\n",
       "  /* Arrow on the left of the label */\n",
       "  content: \"▸\";\n",
       "  float: left;\n",
       "  margin-right: 0.25em;\n",
       "  color: var(--sklearn-color-icon);\n",
       "}\n",
       "\n",
       "#sk-container-id-3 label.sk-toggleable__label-arrow:hover:before {\n",
       "  color: var(--sklearn-color-text);\n",
       "}\n",
       "\n",
       "/* Toggleable content - dropdown */\n",
       "\n",
       "#sk-container-id-3 div.sk-toggleable__content {\n",
       "  max-height: 0;\n",
       "  max-width: 0;\n",
       "  overflow: hidden;\n",
       "  text-align: left;\n",
       "  /* unfitted */\n",
       "  background-color: var(--sklearn-color-unfitted-level-0);\n",
       "}\n",
       "\n",
       "#sk-container-id-3 div.sk-toggleable__content.fitted {\n",
       "  /* fitted */\n",
       "  background-color: var(--sklearn-color-fitted-level-0);\n",
       "}\n",
       "\n",
       "#sk-container-id-3 div.sk-toggleable__content pre {\n",
       "  margin: 0.2em;\n",
       "  border-radius: 0.25em;\n",
       "  color: var(--sklearn-color-text);\n",
       "  /* unfitted */\n",
       "  background-color: var(--sklearn-color-unfitted-level-0);\n",
       "}\n",
       "\n",
       "#sk-container-id-3 div.sk-toggleable__content.fitted pre {\n",
       "  /* unfitted */\n",
       "  background-color: var(--sklearn-color-fitted-level-0);\n",
       "}\n",
       "\n",
       "#sk-container-id-3 input.sk-toggleable__control:checked~div.sk-toggleable__content {\n",
       "  /* Expand drop-down */\n",
       "  max-height: 200px;\n",
       "  max-width: 100%;\n",
       "  overflow: auto;\n",
       "}\n",
       "\n",
       "#sk-container-id-3 input.sk-toggleable__control:checked~label.sk-toggleable__label-arrow:before {\n",
       "  content: \"▾\";\n",
       "}\n",
       "\n",
       "/* Pipeline/ColumnTransformer-specific style */\n",
       "\n",
       "#sk-container-id-3 div.sk-label input.sk-toggleable__control:checked~label.sk-toggleable__label {\n",
       "  color: var(--sklearn-color-text);\n",
       "  background-color: var(--sklearn-color-unfitted-level-2);\n",
       "}\n",
       "\n",
       "#sk-container-id-3 div.sk-label.fitted input.sk-toggleable__control:checked~label.sk-toggleable__label {\n",
       "  background-color: var(--sklearn-color-fitted-level-2);\n",
       "}\n",
       "\n",
       "/* Estimator-specific style */\n",
       "\n",
       "/* Colorize estimator box */\n",
       "#sk-container-id-3 div.sk-estimator input.sk-toggleable__control:checked~label.sk-toggleable__label {\n",
       "  /* unfitted */\n",
       "  background-color: var(--sklearn-color-unfitted-level-2);\n",
       "}\n",
       "\n",
       "#sk-container-id-3 div.sk-estimator.fitted input.sk-toggleable__control:checked~label.sk-toggleable__label {\n",
       "  /* fitted */\n",
       "  background-color: var(--sklearn-color-fitted-level-2);\n",
       "}\n",
       "\n",
       "#sk-container-id-3 div.sk-label label.sk-toggleable__label,\n",
       "#sk-container-id-3 div.sk-label label {\n",
       "  /* The background is the default theme color */\n",
       "  color: var(--sklearn-color-text-on-default-background);\n",
       "}\n",
       "\n",
       "/* On hover, darken the color of the background */\n",
       "#sk-container-id-3 div.sk-label:hover label.sk-toggleable__label {\n",
       "  color: var(--sklearn-color-text);\n",
       "  background-color: var(--sklearn-color-unfitted-level-2);\n",
       "}\n",
       "\n",
       "/* Label box, darken color on hover, fitted */\n",
       "#sk-container-id-3 div.sk-label.fitted:hover label.sk-toggleable__label.fitted {\n",
       "  color: var(--sklearn-color-text);\n",
       "  background-color: var(--sklearn-color-fitted-level-2);\n",
       "}\n",
       "\n",
       "/* Estimator label */\n",
       "\n",
       "#sk-container-id-3 div.sk-label label {\n",
       "  font-family: monospace;\n",
       "  font-weight: bold;\n",
       "  display: inline-block;\n",
       "  line-height: 1.2em;\n",
       "}\n",
       "\n",
       "#sk-container-id-3 div.sk-label-container {\n",
       "  text-align: center;\n",
       "}\n",
       "\n",
       "/* Estimator-specific */\n",
       "#sk-container-id-3 div.sk-estimator {\n",
       "  font-family: monospace;\n",
       "  border: 1px dotted var(--sklearn-color-border-box);\n",
       "  border-radius: 0.25em;\n",
       "  box-sizing: border-box;\n",
       "  margin-bottom: 0.5em;\n",
       "  /* unfitted */\n",
       "  background-color: var(--sklearn-color-unfitted-level-0);\n",
       "}\n",
       "\n",
       "#sk-container-id-3 div.sk-estimator.fitted {\n",
       "  /* fitted */\n",
       "  background-color: var(--sklearn-color-fitted-level-0);\n",
       "}\n",
       "\n",
       "/* on hover */\n",
       "#sk-container-id-3 div.sk-estimator:hover {\n",
       "  /* unfitted */\n",
       "  background-color: var(--sklearn-color-unfitted-level-2);\n",
       "}\n",
       "\n",
       "#sk-container-id-3 div.sk-estimator.fitted:hover {\n",
       "  /* fitted */\n",
       "  background-color: var(--sklearn-color-fitted-level-2);\n",
       "}\n",
       "\n",
       "/* Specification for estimator info (e.g. \"i\" and \"?\") */\n",
       "\n",
       "/* Common style for \"i\" and \"?\" */\n",
       "\n",
       ".sk-estimator-doc-link,\n",
       "a:link.sk-estimator-doc-link,\n",
       "a:visited.sk-estimator-doc-link {\n",
       "  float: right;\n",
       "  font-size: smaller;\n",
       "  line-height: 1em;\n",
       "  font-family: monospace;\n",
       "  background-color: var(--sklearn-color-background);\n",
       "  border-radius: 1em;\n",
       "  height: 1em;\n",
       "  width: 1em;\n",
       "  text-decoration: none !important;\n",
       "  margin-left: 0.5em;\n",
       "  text-align: center;\n",
       "  /* unfitted */\n",
       "  border: var(--sklearn-color-unfitted-level-1) 1pt solid;\n",
       "  color: var(--sklearn-color-unfitted-level-1);\n",
       "}\n",
       "\n",
       ".sk-estimator-doc-link.fitted,\n",
       "a:link.sk-estimator-doc-link.fitted,\n",
       "a:visited.sk-estimator-doc-link.fitted {\n",
       "  /* fitted */\n",
       "  border: var(--sklearn-color-fitted-level-1) 1pt solid;\n",
       "  color: var(--sklearn-color-fitted-level-1);\n",
       "}\n",
       "\n",
       "/* On hover */\n",
       "div.sk-estimator:hover .sk-estimator-doc-link:hover,\n",
       ".sk-estimator-doc-link:hover,\n",
       "div.sk-label-container:hover .sk-estimator-doc-link:hover,\n",
       ".sk-estimator-doc-link:hover {\n",
       "  /* unfitted */\n",
       "  background-color: var(--sklearn-color-unfitted-level-3);\n",
       "  color: var(--sklearn-color-background);\n",
       "  text-decoration: none;\n",
       "}\n",
       "\n",
       "div.sk-estimator.fitted:hover .sk-estimator-doc-link.fitted:hover,\n",
       ".sk-estimator-doc-link.fitted:hover,\n",
       "div.sk-label-container:hover .sk-estimator-doc-link.fitted:hover,\n",
       ".sk-estimator-doc-link.fitted:hover {\n",
       "  /* fitted */\n",
       "  background-color: var(--sklearn-color-fitted-level-3);\n",
       "  color: var(--sklearn-color-background);\n",
       "  text-decoration: none;\n",
       "}\n",
       "\n",
       "/* Span, style for the box shown on hovering the info icon */\n",
       ".sk-estimator-doc-link span {\n",
       "  display: none;\n",
       "  z-index: 9999;\n",
       "  position: relative;\n",
       "  font-weight: normal;\n",
       "  right: .2ex;\n",
       "  padding: .5ex;\n",
       "  margin: .5ex;\n",
       "  width: min-content;\n",
       "  min-width: 20ex;\n",
       "  max-width: 50ex;\n",
       "  color: var(--sklearn-color-text);\n",
       "  box-shadow: 2pt 2pt 4pt #999;\n",
       "  /* unfitted */\n",
       "  background: var(--sklearn-color-unfitted-level-0);\n",
       "  border: .5pt solid var(--sklearn-color-unfitted-level-3);\n",
       "}\n",
       "\n",
       ".sk-estimator-doc-link.fitted span {\n",
       "  /* fitted */\n",
       "  background: var(--sklearn-color-fitted-level-0);\n",
       "  border: var(--sklearn-color-fitted-level-3);\n",
       "}\n",
       "\n",
       ".sk-estimator-doc-link:hover span {\n",
       "  display: block;\n",
       "}\n",
       "\n",
       "/* \"?\"-specific style due to the `<a>` HTML tag */\n",
       "\n",
       "#sk-container-id-3 a.estimator_doc_link {\n",
       "  float: right;\n",
       "  font-size: 1rem;\n",
       "  line-height: 1em;\n",
       "  font-family: monospace;\n",
       "  background-color: var(--sklearn-color-background);\n",
       "  border-radius: 1rem;\n",
       "  height: 1rem;\n",
       "  width: 1rem;\n",
       "  text-decoration: none;\n",
       "  /* unfitted */\n",
       "  color: var(--sklearn-color-unfitted-level-1);\n",
       "  border: var(--sklearn-color-unfitted-level-1) 1pt solid;\n",
       "}\n",
       "\n",
       "#sk-container-id-3 a.estimator_doc_link.fitted {\n",
       "  /* fitted */\n",
       "  border: var(--sklearn-color-fitted-level-1) 1pt solid;\n",
       "  color: var(--sklearn-color-fitted-level-1);\n",
       "}\n",
       "\n",
       "/* On hover */\n",
       "#sk-container-id-3 a.estimator_doc_link:hover {\n",
       "  /* unfitted */\n",
       "  background-color: var(--sklearn-color-unfitted-level-3);\n",
       "  color: var(--sklearn-color-background);\n",
       "  text-decoration: none;\n",
       "}\n",
       "\n",
       "#sk-container-id-3 a.estimator_doc_link.fitted:hover {\n",
       "  /* fitted */\n",
       "  background-color: var(--sklearn-color-fitted-level-3);\n",
       "}\n",
       "</style><div id=\"sk-container-id-3\" class=\"sk-top-container\"><div class=\"sk-text-repr-fallback\"><pre>RandomForestClassifier(random_state=42)</pre><b>In a Jupyter environment, please rerun this cell to show the HTML representation or trust the notebook. <br />On GitHub, the HTML representation is unable to render, please try loading this page with nbviewer.org.</b></div><div class=\"sk-container\" hidden><div class=\"sk-item\"><div class=\"sk-estimator fitted sk-toggleable\"><input class=\"sk-toggleable__control sk-hidden--visually\" id=\"sk-estimator-id-3\" type=\"checkbox\" checked><label for=\"sk-estimator-id-3\" class=\"sk-toggleable__label fitted sk-toggleable__label-arrow\"><div><div>RandomForestClassifier</div></div><div><a class=\"sk-estimator-doc-link fitted\" rel=\"noreferrer\" target=\"_blank\" href=\"https://scikit-learn.org/1.6/modules/generated/sklearn.ensemble.RandomForestClassifier.html\">?<span>Documentation for RandomForestClassifier</span></a><span class=\"sk-estimator-doc-link fitted\">i<span>Fitted</span></span></div></label><div class=\"sk-toggleable__content fitted\"><pre>RandomForestClassifier(random_state=42)</pre></div> </div></div></div></div>"
      ],
      "text/plain": [
       "RandomForestClassifier(random_state=42)"
      ]
     },
     "execution_count": 98,
     "metadata": {},
     "output_type": "execute_result"
    }
   ],
   "source": [
    "from sklearn.ensemble import RandomForestClassifier\n",
    "from sklearn.metrics import confusion_matrix, classification_report, accuracy_score\n",
    "\n",
    "\n",
    "rf_model = RandomForestClassifier(n_estimators=100, random_state=42)\n",
    "\n",
    "rf_model.fit(X_train, y_train)"
   ]
  },
  {
   "cell_type": "markdown",
   "id": "ca8b0c61-10cd-4947-91d2-2665893c2590",
   "metadata": {},
   "source": [
    "### Predictions & Evaluation"
   ]
  },
  {
   "cell_type": "markdown",
   "id": "0546677d-7a28-485d-98a1-5a1afaac788d",
   "metadata": {},
   "source": [
    "Prediction"
   ]
  },
  {
   "cell_type": "code",
   "execution_count": 92,
   "id": "aa10f3c8-4502-402c-a875-9103414464c9",
   "metadata": {},
   "outputs": [],
   "source": [
    "y_pred = rf_model.predict(X_test)"
   ]
  },
  {
   "cell_type": "markdown",
   "id": "d6970073-1964-4729-ab37-10b81af7e750",
   "metadata": {},
   "source": [
    "Accuracy"
   ]
  },
  {
   "cell_type": "code",
   "execution_count": 97,
   "id": "bdb61037-8415-4d32-ba8e-f86717883586",
   "metadata": {},
   "outputs": [
    {
     "name": "stdout",
     "output_type": "stream",
     "text": [
      "Accuracy: 0.795\n"
     ]
    }
   ],
   "source": [
    "print(\"Accuracy:\", accuracy_score(y_test, y_pred))"
   ]
  },
  {
   "cell_type": "markdown",
   "id": "8b5201be-9300-4ab0-83dc-5bed74d1acf5",
   "metadata": {},
   "source": [
    "Confusion Matrix"
   ]
  },
  {
   "cell_type": "code",
   "execution_count": 99,
   "id": "822dc043-3d8b-482b-89b6-a2f4c38bfa66",
   "metadata": {},
   "outputs": [
    {
     "name": "stdout",
     "output_type": "stream",
     "text": [
      "Confusion Matrix:\n",
      " [[156   2]\n",
      " [ 39   3]]\n"
     ]
    }
   ],
   "source": [
    "print(\"Confusion Matrix:\\n\", confusion_matrix(y_test, y_pred))\n"
   ]
  },
  {
   "cell_type": "markdown",
   "id": "51f3796e-ebd7-4195-90ef-5ef45518618f",
   "metadata": {},
   "source": [
    "Classification Report"
   ]
  },
  {
   "cell_type": "code",
   "execution_count": 95,
   "id": "80900ce1-cf2b-41ba-8c5d-91a7affbf405",
   "metadata": {},
   "outputs": [
    {
     "name": "stdout",
     "output_type": "stream",
     "text": [
      "              precision    recall  f1-score   support\n",
      "\n",
      "           0       0.80      0.99      0.88       158\n",
      "           1       0.60      0.07      0.13        42\n",
      "\n",
      "    accuracy                           0.80       200\n",
      "   macro avg       0.70      0.53      0.51       200\n",
      "weighted avg       0.76      0.80      0.73       200\n",
      "\n"
     ]
    }
   ],
   "source": [
    "print(classification_report(y_test, y_pred))"
   ]
  },
  {
   "cell_type": "markdown",
   "id": "433bdab1-e537-488b-a1db-b9541218ca0a",
   "metadata": {},
   "source": [
    "## Justification"
   ]
  },
  {
   "cell_type": "markdown",
   "id": "2cac5c05-2afe-4354-bed7-7ab5fb1398f5",
   "metadata": {},
   "source": [
    "The accuracy of the Random Forest classifier is below 90% primarily due to the imbalance in the dataset. Only 25% of the observations were labeled as hotspots, while the remaining 75% were non-hotspots, which makes it inherently harder for the model to achieve very high overall accuracy. Additionally, the features available in the dataset may not perfectly capture all the factors that determine hotspot status, limiting the model’s ability to fully separate the two classes. Despite this, the model remains effective for identifying high-risk areas, as reflected in the precision, recall, and F1-score, which are more meaningful metrics for evaluating performance in imbalanced classification tasks. Therefore, the slightly lower accuracy does not indicate a failure of the model but reflects the complexity and nature of the problem."
   ]
  },
  {
   "cell_type": "markdown",
   "id": "a35fbc56-b459-40d4-84d4-76ecd8ad6b58",
   "metadata": {},
   "source": [
    "### Feature Importance"
   ]
  },
  {
   "cell_type": "code",
   "execution_count": 100,
   "id": "fb89e24c-b5a8-473f-8a6d-fdb06f9d0a49",
   "metadata": {},
   "outputs": [
    {
     "data": {
      "image/png": "[encoded data removed]",
      "text/plain": [
       "<Figure size 800x600 with 1 Axes>"
      ]
     },
     "metadata": {},
     "output_type": "display_data"
    }
   ],
   "source": [
    "import matplotlib.pyplot as plt\n",
    "\n",
    "feature_importances = pd.Series(rf_model.feature_importances_, index=X.columns)\n",
    "feature_importances.sort_values(ascending=True).plot(kind='barh', figsize=(8,6))\n",
    "plt.title(\"Feature Importances for Crime Hotspot Classification\")\n",
    "plt.show()"
   ]
  },
  {
   "cell_type": "markdown",
   "id": "d7126826-3658-4b44-b71f-39c144ca5d0c",
   "metadata": {},
   "source": [
    "## Time Series Forecasting"
   ]
  },
  {
   "cell_type": "markdown",
   "id": "7a6901c9-acba-4e7d-ab9f-f9c1c0d30227",
   "metadata": {},
   "source": [
    "Using the year column to analyze how crime incidents have changed over time"
   ]
  },
  {
   "cell_type": "code",
   "execution_count": 101,
   "id": "6ddedc98-b319-4c40-b372-35606701dfab",
   "metadata": {},
   "outputs": [
    {
     "data": {
      "text/html": [
       "<div>\n",
       "<style scoped>\n",
       "    .dataframe tbody tr th:only-of-type {\n",
       "        vertical-align: middle;\n",
       "    }\n",
       "\n",
       "    .dataframe tbody tr th {\n",
       "        vertical-align: top;\n",
       "    }\n",
       "\n",
       "    .dataframe thead th {\n",
       "        text-align: right;\n",
       "    }\n",
       "</style>\n",
       "<table border=\"1\" class=\"dataframe\">\n",
       "  <thead>\n",
       "    <tr style=\"text-align: right;\">\n",
       "      <th></th>\n",
       "      <th>year</th>\n",
       "      <th>incidents</th>\n",
       "    </tr>\n",
       "  </thead>\n",
       "  <tbody>\n",
       "    <tr>\n",
       "      <th>0</th>\n",
       "      <td>2005-2006</td>\n",
       "      <td>170493</td>\n",
       "    </tr>\n",
       "    <tr>\n",
       "      <th>1</th>\n",
       "      <td>2006-2007</td>\n",
       "      <td>163852</td>\n",
       "    </tr>\n",
       "    <tr>\n",
       "      <th>2</th>\n",
       "      <td>2007-2008</td>\n",
       "      <td>152866</td>\n",
       "    </tr>\n",
       "    <tr>\n",
       "      <th>3</th>\n",
       "      <td>2008-2009</td>\n",
       "      <td>148323</td>\n",
       "    </tr>\n",
       "    <tr>\n",
       "      <th>4</th>\n",
       "      <td>2009-2010</td>\n",
       "      <td>138492</td>\n",
       "    </tr>\n",
       "  </tbody>\n",
       "</table>\n",
       "</div>"
      ],
      "text/plain": [
       "        year  incidents\n",
       "0  2005-2006     170493\n",
       "1  2006-2007     163852\n",
       "2  2007-2008     152866\n",
       "3  2008-2009     148323\n",
       "4  2009-2010     138492"
      ]
     },
     "execution_count": 101,
     "metadata": {},
     "output_type": "execute_result"
    }
   ],
   "source": [
    "crime_trend = crime_with_pop.groupby('year')['incidents'].sum().reset_index()\n",
    "crime_trend.head()\n"
   ]
  },
  {
   "cell_type": "markdown",
   "id": "75de39e1-de84-41de-9a7b-6c07d1803b4d",
   "metadata": {},
   "source": [
    "## Visualizing the Trend"
   ]
  },
  {
   "cell_type": "code",
   "execution_count": 102,
   "id": "d81779ca-68b2-4b33-b5a6-91c52e1ed939",
   "metadata": {},
   "outputs": [
    {
     "data": {
      "image/png": "[encoded data removed]",
      "text/plain": [
       "<Figure size 1000x500 with 1 Axes>"
      ]
     },
     "metadata": {},
     "output_type": "display_data"
    }
   ],
   "source": [
    "import matplotlib.pyplot as plt\n",
    "\n",
    "plt.figure(figsize=(10,5))\n",
    "plt.plot(crime_trend['year'], crime_trend['incidents'], marker='o', linestyle='-')\n",
    "plt.title(\"Crime Incidents Over the Years\")\n",
    "plt.xlabel(\"Year\")\n",
    "plt.ylabel(\"Total Incidents\")\n",
    "plt.grid(True)\n",
    "plt.show()\n"
   ]
  },
  {
   "cell_type": "markdown",
   "id": "20f090b4-3534-41b9-b51c-4180b8ec40c8",
   "metadata": {},
   "source": [
    "### Time Series Model\n"
   ]
  },
  {
   "cell_type": "markdown",
   "id": "09f2f469-d04a-469b-831c-0e903bf54bc2",
   "metadata": {},
   "source": [
    "Using Linear Regression"
   ]
  },
  {
   "cell_type": "code",
   "execution_count": 105,
   "id": "041d45ec-f967-492f-93d0-8c06b90d5419",
   "metadata": {},
   "outputs": [
    {
     "name": "stdout",
     "output_type": "stream",
     "text": [
      "Predicted incidents for 2024: 100692\n",
      "Predicted incidents for 2025: 97510\n",
      "Predicted incidents for 2026: 94329\n"
     ]
    }
   ],
   "source": [
    "from sklearn.linear_model import LinearRegression\n",
    "import numpy as np\n",
    "\n",
    "\n",
    "crime_trend['year_clean'] = crime_trend['year'].astype(str).str[:4].astype(int)\n",
    "\n",
    "\n",
    "X = np.array(crime_trend['year_clean']).reshape(-1, 1)\n",
    "y = np.array(crime_trend['incidents'])\n",
    "\n",
    "\n",
    "model = LinearRegression()\n",
    "model.fit(X, y)\n",
    "\n",
    "\n",
    "future_years = np.array([2024, 2025, 2026]).reshape(-1, 1)\n",
    "future_predictions = model.predict(future_years)\n",
    "\n",
    "\n",
    "for year, pred in zip(future_years.flatten(), future_predictions):\n",
    "    print(f\"Predicted incidents for {year}: {int(pred)}\")\n"
   ]
  },
  {
   "cell_type": "markdown",
   "id": "0aadfcd8-1db9-4d7b-af16-74d5f4a0a236",
   "metadata": {},
   "source": [
    "### Visualize Forecasts"
   ]
  },
  {
   "cell_type": "code",
   "execution_count": 107,
   "id": "ebc49465-c9ac-48c2-b283-5cb8d6c00ace",
   "metadata": {},
   "outputs": [
    {
     "data": {
      "image/png": "[encoded data removed]",
      "text/plain": [
       "<Figure size 800x500 with 1 Axes>"
      ]
     },
     "metadata": {},
     "output_type": "display_data"
    }
   ],
   "source": [
    "import matplotlib.pyplot as plt\n",
    "\n",
    "\n",
    "years = [2024, 2025, 2026]\n",
    "predicted_incidents = [100692, 97510, 94329]\n",
    "\n",
    "\n",
    "plt.figure(figsize=(8,5))\n",
    "plt.plot(years, predicted_incidents, marker='o', linestyle='-', color='blue')\n",
    "\n",
    "plt.title(\"Predicted Crime Incidents Trend (2024–2026)\")\n",
    "plt.xlabel(\"Year\")\n",
    "plt.ylabel(\"Predicted Number of Incidents\")\n",
    "\n",
    "\n",
    "for i, val in enumerate(predicted_incidents):\n",
    "    plt.text(years[i], val + 1000, f\"{val:,}\", ha='center', fontsize=9)\n",
    "\n",
    "plt.grid(True)\n",
    "plt.show()\n",
    "\n"
   ]
  },
  {
   "cell_type": "markdown",
   "id": "29eba450-4b62-480f-af39-1107c3e6226a",
   "metadata": {},
   "source": [
    "The line graph clearly shows a downward trend, meaning predicted crime incidents are decreasing steadily each year.\n",
    "\n",
    "This could indicate improved law enforcement, social stability, or more effective crime prevention over time."
   ]
  },
  {
   "cell_type": "markdown",
   "id": "3a145055-938e-45cb-9db7-351532d84c45",
   "metadata": {},
   "source": [
    "## DRONE PROGRAMMING\n",
    "\n",
    "To simulate a drone navigating areas of interest for crime prevention, I would first represent the geographic region as a grid-based 3D frame. The area would be divided into smaller cells, similar to a chessboard, where each cell corresponds to a specific location. Adding a third dimension for altitude allows the drone to navigate above obstacles and adjust its height when approaching hotspots. The hotspots identified from the crime analysis, such as high-crime provinces or police station locations, would be assigned as points of interest within this 3D grid. Each hotspot can be marked in the grid so that the drone knows where to focus its monitoring. With this setup, pathfinding algorithms, such as A* or nearest neighbor, could be used to determine the most efficient route for the drone to visit each hotspot. This simulation approach provides a structured way to model drone navigation, prioritize high-risk locations, and evaluate strategies for urban monitoring or crime prevention. \n",
    "\n",
    "Python representation example (pseudo-code):\n",
    "\n",
    "import numpy as np\n",
    "\n",
    "# Define area dimensions\n",
    "x_cells = 10  # longitude divisions\n",
    "y_cells = 10  # latitude divisions\n",
    "z_levels = 5  # altitude levels\n",
    "\n",
    "# Create 3D grid\n",
    "grid = np.zeros((x_cells, y_cells, z_levels)) "
   ]
  },
  {
   "cell_type": "markdown",
   "id": "fb79739f-ca98-4ea9-8e8f-e6780f747d10",
   "metadata": {},
   "source": [
    "To simulate a drone tasked with visiting crime hotspots, I would first define the operational area as a grid-based 3D frame, which represents the city or region in terms of X, Y, and optionally Z coordinates for altitude. Each hotspot identified from the analysis would be assigned as a point of interest on this grid. In Python, I could represent these points as a list of tuples or a Pandas DataFrame"
   ]
  },
  {
   "cell_type": "markdown",
   "id": "6a32d096-4e0d-497c-aaf6-9a51b0a0e20e",
   "metadata": {},
   "source": [
    "## Model Evaluation and Improvement\n",
    "The Random Forest model was evaluated using standard classification metrics including accuracy, precision, recall, and the F1-score. While overall accuracy was reasonably high, the evaluation revealed that some hospitals with extreme bed utilisation rates were less accurately predicted. This is likely due to the presence of outliers and the imbalanced distribution of resources across districts. Feature importance analysis provided insight into which variables had the most predictive power, guiding potential improvements. To enhance model performance, additional relevant features could be included, such as patient demographics or seasonal trends in hospital admissions. Hyperparameter tuning, including adjusting the number of trees and maximum depth, could further improve predictions. Moreover, combining Random Forest with complementary models like Gradient Boosting or using ensemble averaging may help reduce variance and improve robustness, particularly for hospitals with extreme utilisation patterns. Overall, the model provides a reliable framework for identifying healthcare disparities, while targeted improvements can increase its precision and usefulness for policy planning."
   ]
  },
  {
   "cell_type": "markdown",
   "id": "343d818b-93ca-4de5-9970-b76f4e5f3ad9",
   "metadata": {},
   "source": [
    "## Setting up the streamlit app on vs code\n",
    "installing virtual enviroment:\n",
    "\n",
    "  python -m venv .venv\n",
    "activate virtual enviroment\n",
    "\n",
    " .venv\\Scripts\\activate.bat\n",
    "install streamlit\n",
    "\n",
    " pip install streamlit\n",
    "to run the dependencies and app\n",
    "\n",
    " python -m streamlit run data.py"
   ]
  },
  {
   "cell_type": "code",
   "execution_count": null,
   "id": "3d9c77cb-dabd-48fa-b7aa-a7b43ba12aa6",
   "metadata": {},
   "outputs": [],
   "source": []
  }
 ],
 "metadata": {
  "kernelspec": {
   "display_name": "Python [conda env:base] *",
   "language": "python",
   "name": "conda-base-py"
  },
  "language_info": {
   "codemirror_mode": {
    "name": "ipython",
    "version": 3
   },
   "file_extension": ".py",
   "mimetype": "text/x-python",
   "name": "python",
   "nbconvert_exporter": "python",
   "pygments_lexer": "ipython3",
   "version": "3.13.5"
  }
 },
 "nbformat": 4,
 "nbformat_minor": 5
}
